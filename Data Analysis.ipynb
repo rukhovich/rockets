{
 "cells": [
  {
   "cell_type": "code",
   "execution_count": 10,
   "metadata": {},
   "outputs": [],
   "source": [
    "import sklearn as sk\n",
    "import pandas as pd\n",
    "import numpy as np\n",
    "import scipy as sc\n",
    "import os\n",
    "from sklearn.model_selection import train_test_split\n",
    "from sklearn.linear_model import LinearRegression as LR\n",
    "from sklearn.neighbors import KNeighborsRegressor as KNR\n",
    "from sklearn.metrics import r2_score\n",
    "from sklearn.preprocessing import StandardScaler as SS\n",
    "from sklearn.svm import SVR\n",
    "import matplotlib.pyplot as plt\n",
    "%matplotlib inline"
   ]
  },
  {
   "cell_type": "code",
   "execution_count": 2,
   "metadata": {},
   "outputs": [],
   "source": [
    "os.listdir(\".\")\n",
    "dwc = pd.read_csv(\"cooling.csv\", sep='\\t')#data with cooling\n",
    "dwoc = pd.read_csv(\"cooling_out.csv\", sep='\\t')#data wiithout cooling"
   ]
  },
  {
   "cell_type": "code",
   "execution_count": null,
   "metadata": {},
   "outputs": [],
   "source": []
  },
  {
   "cell_type": "code",
   "execution_count": null,
   "metadata": {},
   "outputs": [],
   "source": []
  },
  {
   "cell_type": "markdown",
   "metadata": {},
   "source": [
    "## WITH COOLING"
   ]
  },
  {
   "cell_type": "code",
   "execution_count": 3,
   "metadata": {},
   "outputs": [
    {
     "data": {
      "text/html": [
       "<div>\n",
       "<style scoped>\n",
       "    .dataframe tbody tr th:only-of-type {\n",
       "        vertical-align: middle;\n",
       "    }\n",
       "\n",
       "    .dataframe tbody tr th {\n",
       "        vertical-align: top;\n",
       "    }\n",
       "\n",
       "    .dataframe thead th {\n",
       "        text-align: right;\n",
       "    }\n",
       "</style>\n",
       "<table border=\"1\" class=\"dataframe\">\n",
       "  <thead>\n",
       "    <tr style=\"text-align: right;\">\n",
       "      <th></th>\n",
       "      <th>Параметр\n",
       "размера\n",
       "распределения \n",
       "Росина- Раммлера. м</th>\n",
       "      <th>Параметр \n",
       "ширины \n",
       "распределения Росина - Раммлера</th>\n",
       "      <th>Диаметр \n",
       "представительных \n",
       "частиц. м</th>\n",
       "      <th>Скорость\n",
       "ввода \n",
       "завесного \n",
       "охлаждения.\n",
       "м/с</th>\n",
       "      <th>Осевая компонента\n",
       "скорости</th>\n",
       "      <th>Радиальная компонента скорости</th>\n",
       "      <th>Тангенциальная компонента скорости</th>\n",
       "      <th>Средний диаметр Заутера. м</th>\n",
       "      <th>Расходный комплекс. \n",
       "м/с</th>\n",
       "      <th>Давление. Па</th>\n",
       "    </tr>\n",
       "  </thead>\n",
       "  <tbody>\n",
       "    <tr>\n",
       "      <th>0</th>\n",
       "      <td>0.000070</td>\n",
       "      <td>11.331890</td>\n",
       "      <td>0.000163</td>\n",
       "      <td>1.947487</td>\n",
       "      <td>3.106326</td>\n",
       "      <td>1.288388</td>\n",
       "      <td>2.237261</td>\n",
       "      <td>0.000069</td>\n",
       "      <td>1167793.0</td>\n",
       "      <td>702494</td>\n",
       "    </tr>\n",
       "    <tr>\n",
       "      <th>1</th>\n",
       "      <td>0.000062</td>\n",
       "      <td>9.900000</td>\n",
       "      <td>0.000147</td>\n",
       "      <td>1.700000</td>\n",
       "      <td>2.850000</td>\n",
       "      <td>0.950000</td>\n",
       "      <td>2.460000</td>\n",
       "      <td>0.000061</td>\n",
       "      <td>1165938.0</td>\n",
       "      <td>701378</td>\n",
       "    </tr>\n",
       "    <tr>\n",
       "      <th>2</th>\n",
       "      <td>0.000070</td>\n",
       "      <td>11.331890</td>\n",
       "      <td>0.000130</td>\n",
       "      <td>1.947487</td>\n",
       "      <td>2.593674</td>\n",
       "      <td>1.288388</td>\n",
       "      <td>2.237261</td>\n",
       "      <td>0.000069</td>\n",
       "      <td>1315299.0</td>\n",
       "      <td>791227</td>\n",
       "    </tr>\n",
       "    <tr>\n",
       "      <th>3</th>\n",
       "      <td>0.000054</td>\n",
       "      <td>8.468109</td>\n",
       "      <td>0.000163</td>\n",
       "      <td>1.947487</td>\n",
       "      <td>2.593674</td>\n",
       "      <td>1.288388</td>\n",
       "      <td>2.682739</td>\n",
       "      <td>0.000053</td>\n",
       "      <td>1173714.0</td>\n",
       "      <td>706056</td>\n",
       "    </tr>\n",
       "    <tr>\n",
       "      <th>4</th>\n",
       "      <td>0.000054</td>\n",
       "      <td>8.468109</td>\n",
       "      <td>0.000130</td>\n",
       "      <td>1.452513</td>\n",
       "      <td>2.593674</td>\n",
       "      <td>1.288388</td>\n",
       "      <td>2.682739</td>\n",
       "      <td>0.000053</td>\n",
       "      <td>1177873.0</td>\n",
       "      <td>708558</td>\n",
       "    </tr>\n",
       "  </tbody>\n",
       "</table>\n",
       "</div>"
      ],
      "text/plain": [
       "   Параметр\\nразмера\\nраспределения \\nРосина- Раммлера. м\\n  \\\n",
       "0                                           0.000070          \n",
       "1                                           0.000062          \n",
       "2                                           0.000070          \n",
       "3                                           0.000054          \n",
       "4                                           0.000054          \n",
       "\n",
       "   Параметр \\nширины \\nраспределения Росина - Раммлера  \\\n",
       "0                                          11.331890     \n",
       "1                                           9.900000     \n",
       "2                                          11.331890     \n",
       "3                                           8.468109     \n",
       "4                                           8.468109     \n",
       "\n",
       "   Диаметр \\nпредставительных \\nчастиц. м\\n  \\\n",
       "0                                  0.000163   \n",
       "1                                  0.000147   \n",
       "2                                  0.000130   \n",
       "3                                  0.000163   \n",
       "4                                  0.000130   \n",
       "\n",
       "   Скорость\\nввода \\nзавесного \\nохлаждения.\\nм/с  \\\n",
       "0                                        1.947487   \n",
       "1                                        1.700000   \n",
       "2                                        1.947487   \n",
       "3                                        1.947487   \n",
       "4                                        1.452513   \n",
       "\n",
       "   Осевая компонента\\nскорости  Радиальная компонента скорости  \\\n",
       "0                     3.106326                        1.288388   \n",
       "1                     2.850000                        0.950000   \n",
       "2                     2.593674                        1.288388   \n",
       "3                     2.593674                        1.288388   \n",
       "4                     2.593674                        1.288388   \n",
       "\n",
       "   Тангенциальная компонента скорости  Средний диаметр Заутера. м  \\\n",
       "0                            2.237261                    0.000069   \n",
       "1                            2.460000                    0.000061   \n",
       "2                            2.237261                    0.000069   \n",
       "3                            2.682739                    0.000053   \n",
       "4                            2.682739                    0.000053   \n",
       "\n",
       "   Расходный комплекс. \\nм/с  Давление. Па  \n",
       "0                  1167.793        702494  \n",
       "1                  1165.938        701378  \n",
       "2                  1315.299        791227  \n",
       "3                  1173.714        706056  \n",
       "4                  1177.873        708558  "
      ]
     },
     "execution_count": 3,
     "metadata": {},
     "output_type": "execute_result"
    }
   ],
   "source": [
    "dwc.head()"
   ]
  },
  {
   "cell_type": "code",
   "execution_count": 4,
   "metadata": {},
   "outputs": [
    {
     "name": "stdout",
     "output_type": "stream",
     "text": [
      "(160, 8) (160, 2)\n"
     ]
    }
   ],
   "source": [
    "names = [i for i in dwc]\n",
    "x_names = names[:-2]\n",
    "y_names = names[-2:]\n",
    "data = dwc.as_matrix()\n",
    "X = data[:, :8]\n",
    "Y = data[:, -2:]\n",
    "print X.shape, Y.shape"
   ]
  },
  {
   "cell_type": "code",
   "execution_count": 18,
   "metadata": {},
   "outputs": [
    {
     "data": {
      "image/png": "[encoded data removed]",
      "text/plain": [
       "<matplotlib.figure.Figure at 0x7fa29efe7310>"
      ]
     },
     "metadata": {},
     "output_type": "display_data"
    }
   ],
   "source": [
    "plt.figure(figsize=(12, 12))\n",
    "plt.title(\"X values\")\n",
    "for i in range(8):\n",
    "    plt.subplot(421 + i)\n",
    "    plt.title(i)\n",
    "    plt.hist(X[:, i])"
   ]
  },
  {
   "cell_type": "code",
   "execution_count": 41,
   "metadata": {},
   "outputs": [
    {
     "data": {
      "text/html": [
       "<div>\n",
       "<style scoped>\n",
       "    .dataframe tbody tr th:only-of-type {\n",
       "        vertical-align: middle;\n",
       "    }\n",
       "\n",
       "    .dataframe tbody tr th {\n",
       "        vertical-align: top;\n",
       "    }\n",
       "\n",
       "    .dataframe thead th {\n",
       "        text-align: right;\n",
       "    }\n",
       "</style>\n",
       "<table border=\"1\" class=\"dataframe\">\n",
       "  <thead>\n",
       "    <tr style=\"text-align: right;\">\n",
       "      <th></th>\n",
       "      <th>Параметр\n",
       "размера\n",
       "распределения \n",
       "Росина- Раммлера. м</th>\n",
       "      <th>Параметр \n",
       "ширины \n",
       "распределения Росина - Раммлера</th>\n",
       "      <th>Диаметр \n",
       "представительных \n",
       "частиц. м</th>\n",
       "      <th>Скорость\n",
       "ввода \n",
       "завесного \n",
       "охлаждения.\n",
       "м/с</th>\n",
       "      <th>Осевая компонента\n",
       "скорости</th>\n",
       "      <th>Радиальная компонента скорости</th>\n",
       "      <th>Тангенциальная компонента скорости</th>\n",
       "      <th>Средний диаметр Заутера. м</th>\n",
       "    </tr>\n",
       "  </thead>\n",
       "  <tbody>\n",
       "    <tr>\n",
       "      <th>0</th>\n",
       "      <td>1.000000</td>\n",
       "      <td>0.440364</td>\n",
       "      <td>-0.319290</td>\n",
       "      <td>-0.353097</td>\n",
       "      <td>-0.023375</td>\n",
       "      <td>0.729284</td>\n",
       "      <td>-0.228066</td>\n",
       "      <td>0.999617</td>\n",
       "    </tr>\n",
       "    <tr>\n",
       "      <th>1</th>\n",
       "      <td>0.440364</td>\n",
       "      <td>1.000000</td>\n",
       "      <td>-0.061615</td>\n",
       "      <td>-0.133494</td>\n",
       "      <td>0.007440</td>\n",
       "      <td>0.414268</td>\n",
       "      <td>-0.215025</td>\n",
       "      <td>0.426595</td>\n",
       "    </tr>\n",
       "    <tr>\n",
       "      <th>2</th>\n",
       "      <td>-0.319290</td>\n",
       "      <td>-0.061615</td>\n",
       "      <td>1.000000</td>\n",
       "      <td>0.190086</td>\n",
       "      <td>0.018992</td>\n",
       "      <td>-0.187200</td>\n",
       "      <td>0.027077</td>\n",
       "      <td>-0.321959</td>\n",
       "    </tr>\n",
       "    <tr>\n",
       "      <th>3</th>\n",
       "      <td>-0.353097</td>\n",
       "      <td>-0.133494</td>\n",
       "      <td>0.190086</td>\n",
       "      <td>1.000000</td>\n",
       "      <td>0.019908</td>\n",
       "      <td>-0.247876</td>\n",
       "      <td>0.022559</td>\n",
       "      <td>-0.356801</td>\n",
       "    </tr>\n",
       "    <tr>\n",
       "      <th>4</th>\n",
       "      <td>-0.023375</td>\n",
       "      <td>0.007440</td>\n",
       "      <td>0.018992</td>\n",
       "      <td>0.019908</td>\n",
       "      <td>1.000000</td>\n",
       "      <td>-0.018252</td>\n",
       "      <td>0.002319</td>\n",
       "      <td>-0.024160</td>\n",
       "    </tr>\n",
       "    <tr>\n",
       "      <th>5</th>\n",
       "      <td>0.729284</td>\n",
       "      <td>0.414268</td>\n",
       "      <td>-0.187200</td>\n",
       "      <td>-0.247876</td>\n",
       "      <td>-0.018252</td>\n",
       "      <td>1.000000</td>\n",
       "      <td>-0.234307</td>\n",
       "      <td>0.727807</td>\n",
       "    </tr>\n",
       "    <tr>\n",
       "      <th>6</th>\n",
       "      <td>-0.228066</td>\n",
       "      <td>-0.215025</td>\n",
       "      <td>0.027077</td>\n",
       "      <td>0.022559</td>\n",
       "      <td>0.002319</td>\n",
       "      <td>-0.234307</td>\n",
       "      <td>1.000000</td>\n",
       "      <td>-0.224350</td>\n",
       "    </tr>\n",
       "    <tr>\n",
       "      <th>7</th>\n",
       "      <td>0.999617</td>\n",
       "      <td>0.426595</td>\n",
       "      <td>-0.321959</td>\n",
       "      <td>-0.356801</td>\n",
       "      <td>-0.024160</td>\n",
       "      <td>0.727807</td>\n",
       "      <td>-0.224350</td>\n",
       "      <td>1.000000</td>\n",
       "    </tr>\n",
       "  </tbody>\n",
       "</table>\n",
       "</div>"
      ],
      "text/plain": [
       "   Параметр\\nразмера\\nраспределения \\nРосина- Раммлера. м\\n  \\\n",
       "0                                           1.000000          \n",
       "1                                           0.440364          \n",
       "2                                          -0.319290          \n",
       "3                                          -0.353097          \n",
       "4                                          -0.023375          \n",
       "5                                           0.729284          \n",
       "6                                          -0.228066          \n",
       "7                                           0.999617          \n",
       "\n",
       "   Параметр \\nширины \\nраспределения Росина - Раммлера  \\\n",
       "0                                           0.440364     \n",
       "1                                           1.000000     \n",
       "2                                          -0.061615     \n",
       "3                                          -0.133494     \n",
       "4                                           0.007440     \n",
       "5                                           0.414268     \n",
       "6                                          -0.215025     \n",
       "7                                           0.426595     \n",
       "\n",
       "   Диаметр \\nпредставительных \\nчастиц. м\\n  \\\n",
       "0                                 -0.319290   \n",
       "1                                 -0.061615   \n",
       "2                                  1.000000   \n",
       "3                                  0.190086   \n",
       "4                                  0.018992   \n",
       "5                                 -0.187200   \n",
       "6                                  0.027077   \n",
       "7                                 -0.321959   \n",
       "\n",
       "   Скорость\\nввода \\nзавесного \\nохлаждения.\\nм/с  \\\n",
       "0                                       -0.353097   \n",
       "1                                       -0.133494   \n",
       "2                                        0.190086   \n",
       "3                                        1.000000   \n",
       "4                                        0.019908   \n",
       "5                                       -0.247876   \n",
       "6                                        0.022559   \n",
       "7                                       -0.356801   \n",
       "\n",
       "   Осевая компонента\\nскорости  Радиальная компонента скорости  \\\n",
       "0                    -0.023375                        0.729284   \n",
       "1                     0.007440                        0.414268   \n",
       "2                     0.018992                       -0.187200   \n",
       "3                     0.019908                       -0.247876   \n",
       "4                     1.000000                       -0.018252   \n",
       "5                    -0.018252                        1.000000   \n",
       "6                     0.002319                       -0.234307   \n",
       "7                    -0.024160                        0.727807   \n",
       "\n",
       "   Тангенциальная компонента скорости  Средний диаметр Заутера. м  \n",
       "0                           -0.228066                    0.999617  \n",
       "1                           -0.215025                    0.426595  \n",
       "2                            0.027077                   -0.321959  \n",
       "3                            0.022559                   -0.356801  \n",
       "4                            0.002319                   -0.024160  \n",
       "5                           -0.234307                    0.727807  \n",
       "6                            1.000000                   -0.224350  \n",
       "7                           -0.224350                    1.000000  "
      ]
     },
     "execution_count": 41,
     "metadata": {},
     "output_type": "execute_result"
    }
   ],
   "source": [
    "corr = np.corrcoef(X.T)\n",
    "pd.DataFrame(corr, columns=x_names)"
   ]
  },
  {
   "cell_type": "code",
   "execution_count": 53,
   "metadata": {},
   "outputs": [
    {
     "name": "stdout",
     "output_type": "stream",
     "text": [
      "Средний диаметр Заутера. м Параметр\n",
      "размера\n",
      "распределения \n",
      "Росина- Раммлера. м\n",
      "0.9996169548310969\n",
      "\n",
      "Радиальная компонента скорости Параметр\n",
      "размера\n",
      "распределения \n",
      "Росина- Раммлера. м\n",
      "0.7292838051485814\n",
      "\n",
      "Средний диаметр Заутера. м Радиальная компонента скорости 0.7278065581813309\n",
      "\n"
     ]
    }
   ],
   "source": [
    "corrs = []\n",
    "for i in range(1, 8):\n",
    "    for j in range(i):\n",
    "        corrs.append(((i, j), corr[i][j]))\n",
    "        \n",
    "corrs.sort(cmp=lambda x, y: cmp(y[1], x[1]))\n",
    "for i in corrs:\n",
    "    if i[1] < 0.5:\n",
    "        break\n",
    "    print x_names[i[0][0]], x_names[i[0][1]], i[1]\n",
    "    print"
   ]
  },
  {
   "cell_type": "code",
   "execution_count": 29,
   "metadata": {},
   "outputs": [
    {
     "name": "stdout",
     "output_type": "stream",
     "text": [
      "Y values\n"
     ]
    },
    {
     "data": {
      "image/png": "[encoded data removed]",
      "text/plain": [
       "<matplotlib.figure.Figure at 0x7fa29fc31c10>"
      ]
     },
     "metadata": {},
     "output_type": "display_data"
    }
   ],
   "source": [
    "plt.figure(figsize=(12, 12))\n",
    "print \"Y values\"\n",
    "Y_names = [\"Rashod\", \"Pressure\"]\n",
    "for i in range(2):\n",
    "    plt.subplot(211 + i)\n",
    "    plt.title(Y_names[i])\n",
    "    plt.hist(Y[:, i], color=\"orange\")"
   ]
  },
  {
   "cell_type": "code",
   "execution_count": 20,
   "metadata": {},
   "outputs": [
    {
     "data": {
      "text/plain": [
       "((107, 8), (107, 2))"
      ]
     },
     "execution_count": 20,
     "metadata": {},
     "output_type": "execute_result"
    }
   ],
   "source": [
    "x_train, x_test, y_train, y_test = train_test_split(X, Y, test_size=0.33, random_state=42)\n",
    "x_train.shape, y_train.shape"
   ]
  },
  {
   "cell_type": "code",
   "execution_count": 6,
   "metadata": {},
   "outputs": [
    {
     "name": "stdout",
     "output_type": "stream",
     "text": [
      "-0.5579332964895611\n",
      "Расходный комплекс. \n",
      "м/с\n"
     ]
    }
   ],
   "source": [
    "#model = LR()\n",
    "\n",
    "model = KNR(n_neighbors=3)\n",
    "model.fit(x_train, y_train)\n",
    "y_pred = model.predict(x_test)\n",
    "print r2_score(y_test[:, 0], y_pred[:, 0])\n",
    "y_pred.shape\n",
    "print y_names[0]"
   ]
  },
  {
   "cell_type": "code",
   "execution_count": 25,
   "metadata": {},
   "outputs": [
    {
     "name": "stdout",
     "output_type": "stream",
     "text": [
      "-0.013198128715933066\n"
     ]
    }
   ],
   "source": [
    "model = LR()\n",
    "model = KNR()\n",
    "svr_rbf = SVR(kernel='rbf')\n",
    "svr_lin = SVR(kernel='linear')\n",
    "svr_poly = SVR(kernel='poly')\n",
    "model = svr_rbf\n",
    "model.fit(x_train, y_train[:, 0])\n",
    "y_p = model.predict(x_test)\n",
    "print r2_score(y_test[:, 0], y_p)"
   ]
  },
  {
   "cell_type": "code",
   "execution_count": null,
   "metadata": {},
   "outputs": [],
   "source": []
  },
  {
   "cell_type": "markdown",
   "metadata": {},
   "source": [
    "## WITHOUT COOLING"
   ]
  },
  {
   "cell_type": "code",
   "execution_count": 26,
   "metadata": {},
   "outputs": [],
   "source": [
    "#TODO"
   ]
  }
 ],
 "metadata": {
  "kernelspec": {
   "display_name": "Python 2",
   "language": "python",
   "name": "python2"
  },
  "language_info": {
   "codemirror_mode": {
    "name": "ipython",
    "version": 2
   },
   "file_extension": ".py",
   "mimetype": "text/x-python",
   "name": "python",
   "nbconvert_exporter": "python",
   "pygments_lexer": "ipython2",
   "version": "2.7.12"
  }
 },
 "nbformat": 4,
 "nbformat_minor": 2
}
