{
 "cells": [
  {
   "cell_type": "code",
   "execution_count": 11,
   "metadata": {
    "collapsed": true
   },
   "outputs": [],
   "source": [
    "import torch\n",
    "import numpy as np\n",
    "import random\n",
    "import os\n",
    "from torch import nn\n",
    "from torch.autograd import Variable\n",
    "import pandas as pd\n",
    "from sklearn.model_selection import train_test_split\n",
    "import matplotlib.pyplot as plt\n",
    "from sklearn.preprocessing import StandardScaler as SS\n",
    "from sklearn.metrics import r2_score\n",
    "%matplotlib inline"
   ]
  },
  {
   "cell_type": "code",
   "execution_count": 3,
   "metadata": {
    "collapsed": true
   },
   "outputs": [],
   "source": [
    "os.listdir(\".\")\n",
    "dwc = pd.read_csv(\"cooling.csv\", sep='\\t')#data with cooling\n",
    "dwoc = pd.read_csv(\"cooling_out.csv\", sep='\\t')#data wiithout cooling"
   ]
  },
  {
   "cell_type": "code",
   "execution_count": 4,
   "metadata": {},
   "outputs": [
    {
     "data": {
      "text/html": [
       "<div>\n",
       "<style>\n",
       "    .dataframe thead tr:only-child th {\n",
       "        text-align: right;\n",
       "    }\n",
       "\n",
       "    .dataframe thead th {\n",
       "        text-align: left;\n",
       "    }\n",
       "\n",
       "    .dataframe tbody tr th {\n",
       "        vertical-align: top;\n",
       "    }\n",
       "</style>\n",
       "<table border=\"1\" class=\"dataframe\">\n",
       "  <thead>\n",
       "    <tr style=\"text-align: right;\">\n",
       "      <th></th>\n",
       "      <th>Параметр\n",
       "размера\n",
       "распределения \n",
       "Росина- Раммлера. м</th>\n",
       "      <th>Параметр \n",
       "ширины \n",
       "распределения Росина - Раммлера</th>\n",
       "      <th>Диаметр \n",
       "представительных \n",
       "частиц. м</th>\n",
       "      <th>Скорость\n",
       "ввода \n",
       "завесного \n",
       "охлаждения.\n",
       "м/с</th>\n",
       "      <th>Осевая компонента\n",
       "скорости</th>\n",
       "      <th>Радиальная компонента скорости</th>\n",
       "      <th>Тангенциальная компонента скорости</th>\n",
       "      <th>Средний диаметр Заутера. м</th>\n",
       "      <th>Расходный комплекс. \n",
       "м/с</th>\n",
       "      <th>Давление. Па</th>\n",
       "    </tr>\n",
       "  </thead>\n",
       "  <tbody>\n",
       "    <tr>\n",
       "      <th>0</th>\n",
       "      <td>0.000070</td>\n",
       "      <td>11.331890</td>\n",
       "      <td>0.000163</td>\n",
       "      <td>1.947487</td>\n",
       "      <td>3.106326</td>\n",
       "      <td>1.288388</td>\n",
       "      <td>2.237261</td>\n",
       "      <td>0.000069</td>\n",
       "      <td>1167.793</td>\n",
       "      <td>702494</td>\n",
       "    </tr>\n",
       "    <tr>\n",
       "      <th>1</th>\n",
       "      <td>0.000062</td>\n",
       "      <td>9.900000</td>\n",
       "      <td>0.000147</td>\n",
       "      <td>1.700000</td>\n",
       "      <td>2.850000</td>\n",
       "      <td>0.950000</td>\n",
       "      <td>2.460000</td>\n",
       "      <td>0.000061</td>\n",
       "      <td>1165.938</td>\n",
       "      <td>701378</td>\n",
       "    </tr>\n",
       "    <tr>\n",
       "      <th>2</th>\n",
       "      <td>0.000070</td>\n",
       "      <td>11.331890</td>\n",
       "      <td>0.000130</td>\n",
       "      <td>1.947487</td>\n",
       "      <td>2.593674</td>\n",
       "      <td>1.288388</td>\n",
       "      <td>2.237261</td>\n",
       "      <td>0.000069</td>\n",
       "      <td>1315.299</td>\n",
       "      <td>791227</td>\n",
       "    </tr>\n",
       "    <tr>\n",
       "      <th>3</th>\n",
       "      <td>0.000054</td>\n",
       "      <td>8.468109</td>\n",
       "      <td>0.000163</td>\n",
       "      <td>1.947487</td>\n",
       "      <td>2.593674</td>\n",
       "      <td>1.288388</td>\n",
       "      <td>2.682739</td>\n",
       "      <td>0.000053</td>\n",
       "      <td>1173.714</td>\n",
       "      <td>706056</td>\n",
       "    </tr>\n",
       "    <tr>\n",
       "      <th>4</th>\n",
       "      <td>0.000054</td>\n",
       "      <td>8.468109</td>\n",
       "      <td>0.000130</td>\n",
       "      <td>1.452513</td>\n",
       "      <td>2.593674</td>\n",
       "      <td>1.288388</td>\n",
       "      <td>2.682739</td>\n",
       "      <td>0.000053</td>\n",
       "      <td>1177.873</td>\n",
       "      <td>708558</td>\n",
       "    </tr>\n",
       "  </tbody>\n",
       "</table>\n",
       "</div>"
      ],
      "text/plain": [
       "   Параметр\\nразмера\\nраспределения \\nРосина- Раммлера. м\\n  \\\n",
       "0                                           0.000070          \n",
       "1                                           0.000062          \n",
       "2                                           0.000070          \n",
       "3                                           0.000054          \n",
       "4                                           0.000054          \n",
       "\n",
       "   Параметр \\nширины \\nраспределения Росина - Раммлера  \\\n",
       "0                                          11.331890     \n",
       "1                                           9.900000     \n",
       "2                                          11.331890     \n",
       "3                                           8.468109     \n",
       "4                                           8.468109     \n",
       "\n",
       "   Диаметр \\nпредставительных \\nчастиц. м\\n  \\\n",
       "0                                  0.000163   \n",
       "1                                  0.000147   \n",
       "2                                  0.000130   \n",
       "3                                  0.000163   \n",
       "4                                  0.000130   \n",
       "\n",
       "   Скорость\\nввода \\nзавесного \\nохлаждения.\\nм/с  \\\n",
       "0                                        1.947487   \n",
       "1                                        1.700000   \n",
       "2                                        1.947487   \n",
       "3                                        1.947487   \n",
       "4                                        1.452513   \n",
       "\n",
       "   Осевая компонента\\nскорости  Радиальная компонента скорости  \\\n",
       "0                     3.106326                        1.288388   \n",
       "1                     2.850000                        0.950000   \n",
       "2                     2.593674                        1.288388   \n",
       "3                     2.593674                        1.288388   \n",
       "4                     2.593674                        1.288388   \n",
       "\n",
       "   Тангенциальная компонента скорости  Средний диаметр Заутера. м  \\\n",
       "0                            2.237261                    0.000069   \n",
       "1                            2.460000                    0.000061   \n",
       "2                            2.237261                    0.000069   \n",
       "3                            2.682739                    0.000053   \n",
       "4                            2.682739                    0.000053   \n",
       "\n",
       "   Расходный комплекс. \\nм/с  Давление. Па  \n",
       "0                   1167.793        702494  \n",
       "1                   1165.938        701378  \n",
       "2                   1315.299        791227  \n",
       "3                   1173.714        706056  \n",
       "4                   1177.873        708558  "
      ]
     },
     "execution_count": 4,
     "metadata": {},
     "output_type": "execute_result"
    }
   ],
   "source": [
    "dwc.head()"
   ]
  },
  {
   "cell_type": "code",
   "execution_count": 5,
   "metadata": {},
   "outputs": [
    {
     "name": "stdout",
     "output_type": "stream",
     "text": [
      "(160, 8) (160, 2)\n"
     ]
    }
   ],
   "source": [
    "names = [i for i in dwc]\n",
    "x_names = names[:-2]\n",
    "y_names = names[-2:]\n",
    "data = dwc.as_matrix()\n",
    "X = data[:, :8]\n",
    "Y = data[:, -2:]\n",
    "print X.shape, Y.shape"
   ]
  },
  {
   "cell_type": "code",
   "execution_count": 6,
   "metadata": {},
   "outputs": [
    {
     "data": {
      "text/plain": [
       "383647.1459375"
      ]
     },
     "execution_count": 6,
     "metadata": {},
     "output_type": "execute_result"
    }
   ],
   "source": [
    "Y.mean()"
   ]
  },
  {
   "cell_type": "code",
   "execution_count": null,
   "metadata": {},
   "outputs": [],
   "source": []
  },
  {
   "cell_type": "code",
   "execution_count": null,
   "metadata": {
    "collapsed": true
   },
   "outputs": [],
   "source": []
  },
  {
   "cell_type": "code",
   "execution_count": 22,
   "metadata": {
    "collapsed": true
   },
   "outputs": [],
   "source": []
  },
  {
   "cell_type": "code",
   "execution_count": 32,
   "metadata": {},
   "outputs": [],
   "source": [
    "class Net(nn.Module):\n",
    "    def __init__(self):\n",
    "        super(Net, self).__init__()\n",
    "        self.layers = nn.Sequential(\n",
    "            nn.Linear(8, 20),\n",
    "            nn.Sigmoid(),\n",
    "            nn.Linear(20, 20),\n",
    "            nn.ReLU(),\n",
    "            nn.Linear(20, 1)\n",
    "        )\n",
    "        \n",
    "    def forward(self, x):\n",
    "        return self.layers(x)\n",
    "        "
   ]
  },
  {
   "cell_type": "code",
   "execution_count": 41,
   "metadata": {
    "collapsed": true
   },
   "outputs": [],
   "source": [
    "names = [i for i in dwc]\n",
    "x_names = names[:-2]\n",
    "y_names = names[-2:]\n",
    "data = dwc.as_matrix()\n",
    "X = data[:, :8]\n",
    "Y = data[:, -1:]\n",
    "\n",
    "ssx = SS()\n",
    "Xs = ssx.fit_transform(X)\n",
    "\n",
    "ssy = SS()\n",
    "Ys = ssy.fit_transform(Y)\n",
    "\n",
    "Y = Ys\n",
    "X = Xs\n",
    "\n",
    "train_x, test_x, train_y, test_y = train_test_split(X, Y, test_size=0.10, random_state=43)\n",
    "#x_train.reshape(107, 1, 8)\n",
    "train_x = torch.from_numpy(train_x).type(torch.FloatTensor)\n",
    "train_y = torch.from_numpy(train_y).type(torch.FloatTensor)\n",
    "test_x = torch.from_numpy(test_x).type(torch.FloatTensor)\n",
    "test_y = torch.from_numpy(test_y).type(torch.FloatTensor)"
   ]
  },
  {
   "cell_type": "code",
   "execution_count": 42,
   "metadata": {
    "collapsed": true
   },
   "outputs": [],
   "source": [
    "net = Net()\n",
    "batch_size = 10\n",
    "loss_fn = torch.nn.MSELoss()\n",
    "net_opt = torch.optim.Adam(net.parameters(), lr=0.001)\n",
    "L = []\n",
    "L_test = []\n",
    "L_train = []"
   ]
  },
  {
   "cell_type": "code",
   "execution_count": 44,
   "metadata": {},
   "outputs": [
    {
     "name": "stdout",
     "output_type": "stream",
     "text": [
      "Current loss: 0.13605672121 epoch: 980 iteration: 1400                                              "
     ]
    },
    {
     "data": {
      "text/plain": [
       "<matplotlib.text.Text at 0x7fdecc1a4f90>"
      ]
     },
     "execution_count": 44,
     "metadata": {},
     "output_type": "execute_result"
    },
    {
     "name": "stdout",
     "output_type": "stream",
     "text": [
      "\n"
     ]
    },
    {
     "data": {
      "image/png": "[encoded data removed]",
      "text/plain": [
       "<matplotlib.figure.Figure at 0x7fdecc160190>"
      ]
     },
     "metadata": {},
     "output_type": "display_data"
    }
   ],
   "source": [
    "for i in xrange(1000):\n",
    "    for j in xrange(0, len(train_x), batch_size):\n",
    "        X = Variable(train_x[j:j + batch_size])\n",
    "        Y = Variable(train_y[j:j + batch_size], requires_grad=False)\n",
    "\n",
    "        out = net.forward(X)\n",
    "\n",
    "        loss = loss_fn(out, Y)\n",
    "\n",
    "        if i % 20 == 0:\n",
    "            print '\\r', 'Current loss:', loss.data[0], \"epoch:\", i, \"iteration:\", j, \n",
    "        L.append(loss.data[0])\n",
    "\n",
    "        net.zero_grad()\n",
    "\n",
    "        loss.backward()\n",
    "\n",
    "        net_opt.step()\n",
    "   \n",
    "    a = net.forward(Variable(test_x))\n",
    "    r2 = r2_score(test_y.numpy(), a.data.numpy())\n",
    "    \n",
    "    \n",
    "    L_test.append(r2)\n",
    "    \n",
    "    b = net.forward(Variable(train_x))\n",
    "    r2 = r2_score(train_y.numpy(), b.data.numpy())\n",
    "    L_train.append(r2)\n",
    "    #np.corrcoef(b.data.numpy().T, train_y.numpy().T)\n",
    "    \n",
    "    \n",
    "plt.plot(range(len(L_train)), L_train, c=\"blue\")\n",
    "plt.plot(range(len(L_test)), L_test, c=\"yellow\")\n",
    "\n",
    "plt.grid()\n",
    "plt.xlabel(\"Epoches\")\n",
    "plt.ylabel(\"R2\")\n",
    "        "
   ]
  },
  {
   "cell_type": "code",
   "execution_count": 45,
   "metadata": {},
   "outputs": [
    {
     "data": {
      "text/plain": [
       "0.55371360658609181"
      ]
     },
     "execution_count": 45,
     "metadata": {},
     "output_type": "execute_result"
    }
   ],
   "source": [
    "max(L_test)"
   ]
  },
  {
   "cell_type": "code",
   "execution_count": 46,
   "metadata": {},
   "outputs": [
    {
     "data": {
      "text/plain": [
       "0.77651317764140948"
      ]
     },
     "execution_count": 46,
     "metadata": {},
     "output_type": "execute_result"
    }
   ],
   "source": [
    "max(L_train)"
   ]
  },
  {
   "cell_type": "code",
   "execution_count": 56,
   "metadata": {},
   "outputs": [
    {
     "data": {
      "text/plain": [
       "[<matplotlib.lines.Line2D at 0x7fdebcac7f50>]"
      ]
     },
     "execution_count": 56,
     "metadata": {},
     "output_type": "execute_result"
    },
    {
     "data": {
      "image/png": "[encoded data removed]",
      "text/plain": [
       "<matplotlib.figure.Figure at 0x7fdebcdda650>"
      ]
     },
     "metadata": {},
     "output_type": "display_data"
    }
   ],
   "source": [
    "b = net.forward(Variable(test_x))\n",
    "b.data.numpy(), test_y.numpy()\n",
    "plt.figure(figsize=(6, 6))\n",
    "plt.scatter(b.data.numpy(), test_y.numpy())\n",
    "plt.grid()\n",
    "plt.plot([-4, 4], [-4, 4])"
   ]
  },
  {
   "cell_type": "code",
   "execution_count": 101,
   "metadata": {},
   "outputs": [
    {
     "data": {
      "text/plain": [
       "20385225"
      ]
     },
     "execution_count": 101,
     "metadata": {},
     "output_type": "execute_result"
    }
   ],
   "source": [
    "4515**2"
   ]
  },
  {
   "cell_type": "code",
   "execution_count": null,
   "metadata": {
    "collapsed": true
   },
   "outputs": [],
   "source": []
  },
  {
   "cell_type": "code",
   "execution_count": 47,
   "metadata": {},
   "outputs": [
    {
     "data": {
      "text/plain": [
       "array([[ 1.        ,  0.63475482],\n",
       "       [ 0.63475482,  1.        ]])"
      ]
     },
     "execution_count": 47,
     "metadata": {},
     "output_type": "execute_result"
    }
   ],
   "source": [
    "a = net.forward(Variable(test_x))\n",
    "np.corrcoef(a.data.numpy().T, test_y.numpy().T)"
   ]
  },
  {
   "cell_type": "code",
   "execution_count": 48,
   "metadata": {},
   "outputs": [
    {
     "data": {
      "text/plain": [
       "array([[ 1.        ,  0.88179652],\n",
       "       [ 0.88179652,  1.        ]])"
      ]
     },
     "execution_count": 48,
     "metadata": {},
     "output_type": "execute_result"
    }
   ],
   "source": [
    "b = net.forward(Variable(train_x))\n",
    "np.corrcoef(b.data.numpy().T, train_y.numpy().T)"
   ]
  }
 ],
 "metadata": {
  "kernelspec": {
   "display_name": "Python 2",
   "language": "python",
   "name": "python2"
  },
  "language_info": {
   "codemirror_mode": {
    "name": "ipython",
    "version": 2
   },
   "file_extension": ".py",
   "mimetype": "text/x-python",
   "name": "python",
   "nbconvert_exporter": "python",
   "pygments_lexer": "ipython2",
   "version": "2.7.12"
  }
 },
 "nbformat": 4,
 "nbformat_minor": 2
}
